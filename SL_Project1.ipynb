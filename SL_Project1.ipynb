{
  "nbformat": 4,
  "nbformat_minor": 0,
  "metadata": {
    "kernelspec": {
      "display_name": "Python 3",
      "language": "python",
      "name": "python3"
    },
    "language_info": {
      "codemirror_mode": {
        "name": "ipython",
        "version": 3
      },
      "file_extension": ".py",
      "mimetype": "text/x-python",
      "name": "python",
      "nbconvert_exporter": "python",
      "pygments_lexer": "ipython3",
      "version": "3.7.3"
    },
    "colab": {
      "name": "SL_Project1",
      "provenance": [],
      "include_colab_link": true
    }
  },
  "cells": [
    {
      "cell_type": "markdown",
      "metadata": {
        "id": "view-in-github",
        "colab_type": "text"
      },
      "source": [
        "<a href=\"https://colab.research.google.com/github/KabdualiBek/SL_project1/blob/main/SL_Project1.ipynb\" target=\"_parent\"><img src=\"https://colab.research.google.com/assets/colab-badge.svg\" alt=\"Open In Colab\"/></a>"
      ]
    },
    {
      "cell_type": "code",
      "metadata": {
        "id": "P8HB6RSTVwUV",
        "outputId": "75cb56fb-e9a5-4d15-b2ad-2ac0556e8cb0",
        "colab": {
          "base_uri": "https://localhost:8080/",
          "height": 35
        }
      },
      "source": [
        "from google.colab import drive\n",
        "drive.mount('/content/drive')"
      ],
      "execution_count": null,
      "outputs": [
        {
          "output_type": "stream",
          "text": [
            "Mounted at /content/drive\n"
          ],
          "name": "stdout"
        }
      ]
    },
    {
      "cell_type": "code",
      "metadata": {
        "id": "PO2iRkKYVohb",
        "outputId": "e907392c-0d09-425f-cd98-2da8675b0dde",
        "colab": {
          "base_uri": "https://localhost:8080/",
          "height": 1000
        }
      },
      "source": [
        "import numpy as np\n",
        "import h5py\n",
        "import random\n",
        "\n",
        "with h5py.File('/content/drive/My Drive/SL_project1/msd_summary_file.h5', 'r') as f:\n",
        "    base_items = list(f.items())\n",
        "    print('Items in the directory:', base_items)\n",
        "    metadata = f.get('metadata')\n",
        "    metadata_items = list(metadata.items())\n",
        "    print('Items in metadata:', metadata_items)\n",
        "    #for n in range(1,20):\n",
        "    n = 1\n",
        "    chunk = 100000\n",
        "    #temp = np.array(metadata.get('songs'))[(n-1)*chunk:n*chunk]\n",
        "    data = np.array(metadata.get('songs'))\n",
        "    #data = np.random.choice(np.array(metadata.get('songs')), chunk)\n",
        "    print(data[:100])"
      ],
      "execution_count": 3,
      "outputs": [
        {
          "output_type": "stream",
          "text": [
            "Items in the directory: [('analysis', <HDF5 group \"/analysis\" (1 members)>), ('metadata', <HDF5 group \"/metadata\" (1 members)>), ('musicbrainz', <HDF5 group \"/musicbrainz\" (1 members)>)]\n",
            "Items in metadata: [('songs', <HDF5 dataset \"songs\": shape (1000000,), type \"|V5320\">)]\n",
            "[(b'',   4069, 0.6498221 , 0.39403189, b'ARYZTJS1187B98C555',      nan, b'',        nan, b'357ff05d-848a-44cf-b608-cb34b5701ae5', b'Faster Pussy cat',  44895, b'', 0, 0, b'Monster Ballads X-Mas', 633681, 0.54289874, b'SOQMMHC12AB0180CB8', b'Silent Night', 7032331)\n",
            " (b'', 113480, 0.43960397, 0.35699211, b'ARMVN3U1187FB3A1EB',      nan, b'',        nan, b'8d7ef530-a6fd-4f8f-b2e2-74aec765e0f9', b'Karkkiautomaatti',     -1, b'', 0, 0, b'Karkuteill\\xc3\\xa4', 145266, 0.29987749, b'SOVFVAK12A8C1350D9', b'Tanssi vaan', 1514808)\n",
            " (b'',  63531, 0.64368057, 0.43750384, b'ARGEKB01187FB50750', 55.8578 , b'Glasgow, Scotland',   -4.24251, b'3d403d44-36ce-465c-ad43-ae877e65adc4', b'Hudson Mohawke',     -1, b'', 0, 0, b'Butter', 625706, 0.61787097, b'SOGTUKN12AB017F4F1', b'No One Could Ever', 6945353)\n",
            " (b'',  65051, 0.44850116, 0.37234907, b'ARNWYLR1187B9B2F9C',      nan, b'',        nan, b'12be7648-7094-495f-90e6-df4189d68615', b'Yerba Brava',  34000, b'', 0, 0, b'De Culo', 199368,        nan, b'SOBNYVR12A8C13558C', b'Si Vos Quer\\xc3\\xa9s', 2168257)\n",
            " (b'', 158279, 0.        , 0.        , b'AREQDTE1269FB37231',      nan, b'',        nan, b'', b'Der Mystic',     -1, b'', 0, 0, b'Rene Ablaze Presents Winter Sessions', 209038,        nan, b'SOHSBXH12A8C13B0DF', b'Tangle Of Aspens', 2264873)\n",
            " (b'', 219281, 0.36128698, 0.10962585, b'AR2NS5Y1187FB5879D',      nan, b'',        nan, b'd087b377-bab7-46c4-bd12-15debebb5d61', b'David Montgomery',     -1, b'', 0, 0, b'Berwald: Symphonies Nos. 1/2/3/4', 299244,        nan, b'SOZVAPQ12A8C13B63C', b'Symphony No. 1 G minor \"Sinfonie Serieuse\"/Allegro con energia', 3360982)\n",
            " (b'',   3736, 0.69292273, 0.45373159, b'ARO41T51187FB397AB',      nan, b'Mexico City, Mexico',        nan, b'd2461c0a-5575-4425-a225-fce0180de3fd', b'Sasha / Turbulence',   1396, b'', 0, 0, b'Strictly The Best Vol. 34',  52968,        nan, b'SOQVRHI12A6D4FB2D7', b'We Have Got Love',  552626)\n",
            " (b'',  49941, 0.58815619, 0.40109243, b'AR3Z9WY1187FB4CDC2',      nan, b'',        nan, b'bf61e8ff-7621-4655-8ebd-68210645c5e9', b'Kris Kross',   9594, b'', 0, 0, b'Da Bomb', 580432,        nan, b'SOEYRFT12AB018936C', b\"2 Da Beat Ch'yall\", 6435649)\n",
            " (b'',  15202, 0.40846546, 0.2859012 , b'ARA04401187B991E6E', 54.99241, b'Londonderry, Northern Ireland',   -7.31923, b'1a9bf859-1dc2-495b-9e7c-289be7731a9f', b'Joseph Locke',  61524, b'', 0, 0, b'Danny Boy', 756677,        nan, b'SOPMIYT12A6D4F851E', b'Goodbye', 8376489)\n",
            " (b'',  76721, 0.41994127, 0.24913723, b'ARCVMYS12454A51E6E',      nan, b'',        nan, b'', b\"The Sun Harbor's Chorus-Documentary Recordings\",  50151, b'', 0, 0, b'March to cadence with the US marines',  95069,        nan, b'SOJCFMH12A8C13B0C2', b\"Mama_ mama can't you see ?\", 1043208)\n",
            " (b'', 483188, 0.55501397, 0.35294891, b'AR59BSJ1187FB4474F',      nan, b'',        nan, b'891fccfc-24c1-4bfd-bf49-c736e59e443f', b\"3 Gars Su'l Sofa\",     -1, b'', 0, 0, b'Des cobras des tarentules', 649271,        nan, b'SOYGNWH12AB018191E', b\"L'antarctique\", 7192392)\n",
            " (b'', 182764, 0.54138976, 0.36909625, b'ARCVIFR1187B99129F', 21.01841, b'Guanajuato, Guanajuato, Mexico', -101.25912, b'ec57c22f-9bb7-48ab-aa85-dab108a71b53', b'Jorge Negrete',  16768, b'', 0, 0, b'32 Grandes \\xc3\\x89xitos  CD 2', 714860,        nan, b'SOLJTLX12AB01890ED', b'El hijo del pueblo', 7928975)\n",
            " (b'', 165382, 0.62200539, 0.45157896, b'ARVIT0V1187B9A7CDE',      nan, b'',        nan, b'2eb02f8c-8dfa-49dc-a224-11051ec45a42', b'Danny Diablo',     -1, b'', 0, 0, b'International Hardcore Superstar', 620618, 0.39200877, b'SOQQESG12A58A7AA28', b'Cold Beer feat. Prince Metropolitan', 6893903)\n",
            " (b'',   5823, 0.62182649, 0.40698473, b'AREMPER1187B9AEB42',      nan, b'',        nan, b'14efbb08-c3d8-404c-9ead-ad71fa586ee6', b'Tiger Lou',     -1, b'', 0, 0, b'The Loyal', 204414, 0.46348966, b'SOMPVQB12A8C1379BB', b'Pilots', 2218694)\n",
            " (b'', 107401, 0.54368992, 0.37367919, b'ARBAMQB1187FB3C650',      nan, b'',        nan, b'0bb5e108-b41d-46cd-969e-69d34d1acdfe', b'Waldemar Bastos',  21683, b'', 0, 0, b'Afropea 3 - Telling Stories To The Sea', 218915, 0.4499402 , b'SOGPCJI12A8C13CCA0', b'N Gana', 2387740)\n",
            " (b'',  63158, 0.52981913, 0.41022851, b'ARSB5591187B99A848', 57.42635, b'Vetlanda, Sweden',   15.08518, b'fba3e876-68f1-4a1f-99d9-c604480202ba', b'Lena Philipsson',     -1, b'', 0, 0, b'Lena 20 \\xc3\\x85r', 543019, 0.21204541, b'SOSDCFG12AB0184647', b'006', 6010886)\n",
            " (b'',   2752, 0.68550283, 0.44673297, b'ARDW5AW1187FB55708', 42.78668, b'Vermillion, SD',  -96.92803, b'42222090-c5e5-4243-8582-c29bc8b63ec6', b'Shawn Colvin',   1431, b'', 0, 0, b'Cover Girl', 282071, 0.270776  , b'SOBARPM12A8C133DFF', b'(Looking For) The Heart Of Saturday', 3156269)\n",
            " (b'',   8066, 0.73447141, 0.51197583, b'ARGWPP11187B9AEF43', 38.8235 , b'Maryland',  -75.92381, b'f76167bb-c117-4022-8b6b-54c796edf5c9', b'Dying Fetus',  51871, b'', 0, 0, b'Descend Into Depravity', 610151, 0.61476581, b'SOKOVRQ12A8C142811', b'Ethos of Coercion', 6782293)\n",
            " (b'',  21191, 0.73899591, 0.5633669 , b'ARDT9VH1187B999C0B',      nan, b'South Carolina',        nan, b'6b22de04-fb48-44aa-bd02-c1427f635477', b'Emery',  10889, b'', 0, 0, b\"I'm Only A Man (Bonus Track Version)\", 143873, 0.71731903, b'SOIMMJJ12AF72AD643', b'Rock-N-Rule', 1501464)\n",
            " (b'',  68575, 0.46714484, 0.40912708, b'ARWFDED1187B9B9D71',      nan, b'',        nan, b'8ff7e1b4-18f8-48ec-a8a0-793ab1a5511c', b'Los Ronaldos',     -1, b'', 0, 0, b'La bola extra', 212920,        nan, b'SOVMBTP12A8C13A8F6', b'La bola extra', 2318206)\n",
            " (b'', 101173, 0.3771902 , 0.29024207, b'ARVF2AD1187FB47580',      nan, b'',        nan, b'fd711779-5524-4ed3-8d68-da0b867caa34', b'Rev. Timothy Wright', 115336, b'', 0, 0, b\"Let's Celebrate (He Is Risen)\", 572568, 0.2903036 , b'SOOUESZ12AB0189AFD', b'I Made It Over', 6345139)\n",
            " (b'',   6620, 0.41373894, 0.38346321, b'AR0GK7N1187B9AC56C',      nan, b'',        nan, b'bfc4370b-c0d9-46c7-825b-bf09f9b65264', b'Pierre-Laurent Aimard',  14355, b'', 0, 0, b'Debussy : 12 Etudes_ Images Sets 1 & 2',  34852, 0.        , b'SOAGMGG12A6D4F9099', b'Debussy : 12 Etudes : VI Pour les huit doigts',  373519)\n",
            " (b'', 114787, 0.59355425, 0.29717563, b'AR66C9X1187B98F7EA',      nan, b'Glasgow, Scotland',        nan, b'b9313805-5fe0-4f1b-9f5c-9e52565a5a3d', b'Nicolette',     -1, b'', 0, 0, b'Let No One Live Rent Free In Your Head', 146536,        nan, b'SOGFWVT12A8C137C64', b'Nervous', 2242562)\n",
            " (b'',   4411, 0.64119751, 0.44865347, b'AR4TLW81187B99683D',      nan, b'Syracuse, NY',        nan, b'0685ac4a-5cfc-408a-b391-903ea20e00bf', b'Martin Sexton',  53504, b'', 0, 0, b'In The Journey', 519740,        nan, b'SOKLPMH12AB01861FA', b'In The Journey', 5749967)\n",
            " (b'', 203740, 0.55913511, 0.40459386, b'ARDPJYJ11F4C83E24A', 31.1689 , b'Miami FL', -100.07715, b'', b'Craze',     -1, b'', 0, 0, b'Craze\\xc3\\xab Musick', 249485,        nan, b'SOEPAIN12A8C1396A7', b'Fuckin Ethic People (999)', 2851707)\n",
            " (b'',  61830, 0.58371676, 0.39661257, b'ARBE9HD1187FB40016',      nan, b'',        nan, b'8cc00e45-94c9-40e0-882b-0e76dd5b472b', b'Christian Castro',    329, b'', 0, 0, b'Hoy Quiero So\\xc3\\xb1ar', 447219, 0.24416043, b'SOQMZZI12AB01850D4', b'Tu Vida Con La M\\xc3\\xada', 4970915)\n",
            " (b'',  10173, 0.85338287, 0.61043162, b'AR12F2S1187FB56EEF',      nan, b'Boston, MA',        nan, b'3d2b98e5-556f-4451-a3ff-c50ea18d57cb', b'Aerosmith',     39, b'', 0, 0, b\"Honkin' On Bobo\", 282499,        nan, b'SOEEHEY12CF5F88FB4', b\"I'm Ready\", 3162359)\n",
            " (b'',  52624, 0.72986733, 0.41788203, b'AREH0O41187FB4C405',      nan, b'Oakland',        nan, b'83e32d32-fee5-45de-a4b6-b49956a069eb', b'Skinlab', 130846, b'', 0, 0, b'Nerve Damage', 734700, 0.22482003, b'SOWUMAZ12A67ADE769', b'Take As Needed', 8138503)\n",
            " (b'',  91211, 0.43091413, 0.        , b'ARN5X9D1187B998A6D',      nan, b'',        nan, b'2f338a80-cae4-40e8-a0f7-9b5468479e3a', b'Mike Badger and Friends',     -1, b'', 0, 0, b'Lo Fi_ Acoustic Excursions', 689856,        nan, b'SOJJAZT12AC4687219', b'Autumn In The Mind (Acoustic Version)', 7656579)\n",
            " (b'', 267954, 0.54292174, 0.41124083, b'AR52DCD1187B992B5F',      nan, b'Roma',        nan, b'80d946ff-0567-4882-ad91-77c5d47448b8', b'Piotta',     -1, b'', 0, 0, b'Tequila il mambo del giubileo (12 Inc)', 779471,        nan, b'SOMLHJQ12AC4685B45', b'Tequila', 8626743)\n",
            " (b'',  75877, 0.50141534, 0.33759315, b'ARPMCDB1187FB4B5D2', 40.71455, b'New York',  -74.00712, b'97989c9f-4efd-436a-b74e-c9914e9f3d06', b'Sev Statik', 101815, b'', 0, 0, b'Speak Life',  26385,        nan, b'SOYNOIK12A6D4F7F3F', b'All For A Purpose (Speak Life Album Version)',  285211)\n",
            " (b'',  29162, 0.59705156, 0.35311402, b'AR00P3M1187FB5428C',      nan, b'',        nan, b'b3a35974-4703-4423-92bf-a1b5ac6cac3b', b'The Advent',     -1, b'', 0, 0, b'C On', 626259,        nan, b'SOPUJOM12AB017FEEB', b'C On', 6952931)\n",
            " (b'',  31611, 0.68480806, 0.48544475, b'ARJ3CTF1187B9A1F2E',      nan, b'',        nan, b'4c8ead39-b9df-4c56-a27c-51bc049cfd48', b'Prince & The Revolution',     -1, b'', 0, 0, b'The Hits/The B-Sides', 133264, 0.32311212, b'SOGNNYL12A6D4F910B', b'Raspberry Beret (LP Version)', 1381741)\n",
            " (b'',  10146, 0.74025231, 0.47269146, b'AR79L0D1187FB3AFB6', 51.4518 , b'Essen',    7.01062, b'39822e8d-f24e-4f07-b51b-28b22e59fbdb', b'Kreator', 213899, b'', 0, 0, b'Violent revolution', 479022, 0.78872682, b'SOOLRHW12A8C142643', b'All of the same blood', 5317548)\n",
            " (b'',  85490, 0.53474214, 0.29917731, b'ARR4EXL1187B9A4E3C', 39.73926, b'Illinois',  -89.50409, b'84c3cdf1-7872-4360-81fa-e3511eafe1c8', b'Hall Of Fame',     -1, b'', 0, 0, b'Hall Of Fame', 220586, 0.        , b'SOMKNZS12A8C13DEBC', b'One Little Too Little', 2408454)\n",
            " (b'',  30249, 0.44625667, 0.34635752, b'AR0G47L1187B98CC6D', 50.91552, b'Battle, Sussex, England',    0.48883, b'1ab5ec20-743e-4f11-9c37-237f190ae447', b'Frank Chacksfield', 158461, b'', 0, 0, b'Classic Years', 238993, 0.46048484, b'SOYKVON12A8C14097E', b'Cockleshell Heroes', 3484384)\n",
            " (b'', 131522, 0.52548391, 0.31406651, b'ARQJYSJ1187FB4CDF3',      nan, b'',        nan, b'6bf918da-7c90-4b96-9661-0f30bc4f15c8', b'Voyage',  82273, b'', 0, 0, b'Voyage', 172642,        nan, b'SOEXAWC12AB01817E6', b'Trancesequence', 1841489)\n",
            " (b'',     33, 0.65670016, 0.47621323, b'AR3TG9F1187B98E0D3', 50.72805, b'Devon, England',   -3.71925, b'406f1b42-0c9e-4427-aeb7-02f78e188ec4', b'Wishbone Ash',   9006, b'', 0, 0, b'TRANCE VISIONARY', 799812, 0.        , b'SOKQCDA12A6D4FA556', b'Wonderful Stash', 8847762)\n",
            " (b'', 186843, 0.43345065, 0.34926032, b'AR2AP091187FB53FC3',      nan, b'',        nan, b'5871ab3e-f48b-46ba-b036-03f81e81d8ad', b'Malavoi',     -1, b'', 0, 0, b'Le meilleur', 241530,        nan, b'SOFWVLR12A8C1328DC', b'La filo', 2634064)\n",
            " (b'', 105045, 0.56228235, 0.36773882, b'ARPUVK01187B998FB1',      nan, b'Ohio',        nan, b'f9539ebb-1984-43df-ab84-b8f73e97d952', b'Cobra Verde',     -1, b'', 0, 0, b'Easy Listening', 250835, 0.        , b'SOLRKBF12A8C13C88A', b'Throw It Away', 2900722)\n",
            " (b'', 140359, 0.38682777, 0.31188292, b'ARYZAZX1187FB5BA03', 49.10516, b'Surrey, British Columbia, Canada', -122.83019, b'127c9dae-1aeb-43bc-a930-ecff36b01bc8', b'Lisa Brokop',  78619, b'', 0, 0, b'Lisa Brokop', 203899,        nan, b'SOBDLRM12A8C13A0AC', b'Before He Kissed Me', 2213839)\n",
            " (b'',  49943, 0.63847588, 0.41190452, b'ARCB9IH1187FB52D15',      nan, b'',        nan, b'6ff13427-08ff-4da2-bee8-892e1fa22d3c', b'The Emotions',   5040, b'', 0, 0, b'Rejoice', 302131,        nan, b'SOMXBRA12AB017C656', b'Blessed', 3415158)\n",
            " (b'', 355904, 0.54066183, 0.34693623, b'ARS1QBT1187B994054',      nan, b'',        nan, b'95a9e97a-01e8-4cfa-94af-715e6c28ca97', b'Safi Connection',     -1, b'', 0, 0, b'B.P.M. - Bionic Pulse Method Vol. 3', 762117,        nan, b'SODJAOH12A58A77B23', b'Goa Amsterdam', 8436593)\n",
            " (b'',  19946, 0.80716839, 0.50240054, b'AR0H39F1187B9BA26D', 39.75911, b'Dayton, OH',  -84.19444, b'194eeda1-e662-43bc-b9be-32fc1afecc8b', b'Hawthorne Heights',   8082, b'', 0, 0, b'Fragile Future', 316457, 0.35897653, b'SOCPTIN12A8C14265F', b'Disaster [Demo Version]', 3579270)\n",
            " (b'',  11109, 0.60641378, 0.37760293, b'ARAV0V51187B98F15B',      nan, b'',        nan, b'd35e1026-638b-4c92-b53e-43cfc0172e86', b'The Maytals',     -1, b'', 0, 0, b'The Best Of', 344923,        nan, b'SODVOFJ12AB0181EE6', b'Night And Day', 3863603)\n",
            " (b'',  43318, 0.53064739, 0.38192121, b'AROMGZS1187B9B1672', 40.75   , b'Scafati, Italy',   14.52689, b'21fe27b8-e059-47cc-9064-8bfff4bacba5', b'Neffa',   1147, b'', 0, 0, b'Alla Fine Della Notte', 383926, 0.52946853, b'SODDEQU12AAF3B2FC8', b'Passione', 4261918)\n",
            " (b'', 138438, 0.56063428, 0.34870188, b'ARDD0UX1187B9A57F3',      nan, b'Illinois',        nan, b'8f1b6974-6529-4e27-8ba9-f2ef2aa7fbe3', b'Lil\\x19 O',     -1, b'', 0, 0, b'[Screwed] Tha Flood - Swishahouse Mix', 728141, 0.24906579, b'SONYUEW12AB018B373', b'My Everything [Screwed] (feat. Trae The Truth)', 8067120)\n",
            " (b'',  16926, 0.82022156, 0.4851047 , b'AR4T2IF1187B9ADBB7', 63.96027, b'<a href=\"http://billyidol.net\" onmousedown=\\'UntrustedLink.bootstrap($(this), \"fc44f8f60d13ab68c56b3c6709c6d670\", event)\\' target=\"_blank\" rel=\"nofollow\">http://billyidol.net</a>',   10.22442, b'47c8f88b-987a-4b64-9175-2b1b57809727', b'Billy Idol',    204, b'', 0, 0, b\"Devil's Playground\", 275293, 0.73585316, b'SOWWQXA12A81C1F9CA', b'Scream', 3060170)\n",
            " (b'', 293448, 0.45976235, 0.36935966, b'AR2AL111187B9B3C31',      nan, b'',        nan, b'e503a567-44ed-485b-994e-cc084fcc56e4', b'The Vichy Government',     -1, b'', 0, 0, b'The Man Delusion', 468840, 0.28848164, b'SONNHYN12AB018538B', b'The Man Delusion', 5213864)\n",
            " (b'',  10559, 0.43103079, 0.33385812, b'AROPC1B1187FB567E3',      nan, b'',        nan, b'6dc557f0-3d47-446d-bb6d-df2ba2405ef7', b'Out Of The Grey',  54572, b'', 0, 0, b'The Early Years',  41971, 0.        , b'SOCWWYB12A6D4F9AF4', b'He Is Not Silent (Out Of The Grey Album Version)',  446251)\n",
            " (b'', 565308, 0.2092385 , 0.11649043, b'ARCIVXI127BF5F1610',      nan, b'',        nan, b'', b'Orquesta Sonara La Habana', 213589, b'', 0, 0, b'Salsa Cubana Vol.6', 767723,        nan, b'SOIRTNX12AB018B41D', b'Pepe El Ma\\xc3\\xb1oso', 8500495)\n",
            " (b'', 134035, 0.40862775, 0.30010724, b'AREWP0C1187B9B7B58',      nan, b'',        nan, b'2b5c26ec-1442-4026-bf8b-e7fb5bc6624a', b'Leo Marini',  54400, b'', 0, 0, b'\\xc3\\x89xitos Del Rom\\xc3\\xa1ntico De Siempre', 233533, 0.43016064, b'SOLGCKQ12A8AE47CFA', b'Ac\\xc3\\xa9rcate M\\xc3\\xa1s', 2561978)\n",
            " (b'',  32384, 0.46774229, 0.37561438, b'ARO5ZS41187FB5C40D', 35.21553, b'Erick, OK',  -99.86665, b'42b26772-c5a8-4af5-9fbb-d63593a48a29', b'Sheb Wooley',     -1, b'', 0, 0, b'Country & Western', 548439, 0.        , b'SOZOAEF12AB017F0A9', b'Mule Boogie', 6065990)\n",
            " (b'',  13832, 0.74793922, 0.56139407, b'ARCXKY91187B9ACA99',      nan, b'Nanaimo, Canada',        nan, b'67d2cb7a-9ddb-4a7f-82bf-5a2d1a038e98', b'Diana Krall',   4071, b'', 0, 0, b'The Look Of Love',  60300, 0.61625122, b'SOHMYGC12A6D4FAC4B', b'Dancing In The Dark',  624976)\n",
            " (b'',  16371, 0.4501494 , 0.34799407, b'ARMTBVR1187B99A24A',      nan, b'',        nan, b'f7f182b1-9659-4086-b9f2-837649c4d43a', b'Clifford T. Ward',     -1, b'', 0, 0, b'Change of Heart', 614712,        nan, b'SOHSSPG12A8C144BE0', b'Mad About You', 6833759)\n",
            " (b'',  54504, 0.555765  , 0.37651423, b'ARXZIHJ1187B9A4ED9', 41.94508, b'Attleboro, MA',  -71.28109, b'b84dfb67-c437-4ccc-b512-1073fd4612eb', b'Ray Conniff;Billy Butterfield',   8531, b'', 0, 0, b\"Just Kiddin' Around\", 282841,        nan, b'SOCBSOR12A8C1314DD', b'Heartaches', 3156757)\n",
            " (b'', 453897, 0.56350296, 0.43839946, b'ARNIZZT1241B9CE19E',      nan, b'',        nan, b'f2ddd6e8-ef48-4d65-8940-a755491a5fde', b'Weekend Nachos',     -1, b'', 0, 0, b'Unforgivable', 610144, 0.59476531, b'SOOKLXI12A8C142FB0', b'Pain Over Acceptance', 6782190)\n",
            " (b'',  61182, 0.62107623, 0.48482534, b'ARZNFNV1187FB3DA62', 36.15398, b'Tulsa, OK',  -95.99277, b'98b31574-fa4c-4cf1-bf32-681f7df45fe3', b'Joe Diffie',   2991, b'', 0, 0, b'The Ultimate Hits', 585650,        nan, b'SOYMTVV12A58A7C2D6', b\"Ships That Don't Come In\", 6495091)\n",
            " (b'',  23817, 0.60429659, 0.43798775, b'ARKE7ZQ1187FB504BB',      nan, b'Jacksonville, FL',        nan, b'd6d0b51f-1b65-4643-a679-cf4d0c0f3915', b'Blackfoot',  41092, b'', 0, 0, b'Rick Medlocke & Blackfoot', 513241,        nan, b'SODQHXQ12AB0189AE0', b'Saturday Night  (LP Version)', 5683011)\n",
            " (b'', 308227, 0.59541446, 0.41709886, b'ARL62M311C8A4213F2',      nan, b'',        nan, b'7700b801-de15-4c91-a641-387839e371e2', b'Katie Armiger',     -1, b'', 0, 0, b'My Christmas', 500094, 0.        , b'SOFSJXP12AB017E676', b'I Just Want To Be With You This Christmas', 5538894)\n",
            " (b'', 415645, 0.61920654, 0.14468466, b'AR9HLK81187B9AB1C3', 42.88544, b'Buffalo, NY',  -78.87846, b'996e9b51-4fbf-44a8-97d6-290cd404c5fd', b'Stemm',     -1, b'', 0, 0, b'Songs for the Incurable Heart', 616041, 0.47334654, b'SOHGZWM12AAA8C86EA', b'On the Surface', 6847850)\n",
            " (b'',  10173, 0.8725366 , 0.61073146, b'AR12F2S1187FB56EEF',      nan, b'Boston, MA',        nan, b'3d2b98e5-556f-4451-a3ff-c50ea18d57cb', b'Aerosmith',     39, b'', 0, 0, b'Night In The Ruts', 581758,        nan, b'SOLBDWO12AB0188CC2', b'Remember (Walking In The Sand)', 6450950)\n",
            " (b'',   2782, 0.4270096 , 0.28974077, b'AR16FF01187B98E24E', 32.77815, b'Dallas, TX',  -96.7954 , b'10e5004d-c636-4f6f-8cf6-deefe007764e', b'Hot Lips Page',  21242, b'', 0, 0, b\"Singin' The Blues\", 577469, 0.28848164, b'SOUHTYT12AB0189D1C', b'Just Another Woman', 6411760)\n",
            " (b'', 149694, 0.45814793, 0.32431878, b'ARLVDM31187B98C2BB',      nan, b'',        nan, b'e7319465-1bed-432b-a540-cb16c264f214', b'David Fridlund',     -1, b'', 0, 0, b'Amaterasu', 198774,        nan, b'SOVUFFC12AC9E16242', b'untitled', 2169433)\n",
            " (b'', 436915, 0.54845798, 0.4015576 , b'AR72PJV1187B9A72CE',      nan, b'',        nan, b'9ed7f525-dcc3-46bb-911f-3fd22b28c519', b'Kultiration',     -1, b'', 0, 0, b'Om Gaia', 700140,        nan, b'SOEBDKM12AC4686D3A', b'Bakslag', 7767984)\n",
            " (b'', 387386, 0.48369766, 0.37721554, b'AR76EV61187FB541DD',      nan, b'',        nan, b'44768ab3-fedf-4305-9b2a-cf98c97c8d44', b'Ewigkeit', 160600, b'', 0, 0, b'Radio Ixtlan', 681724,        nan, b'SOPJNRJ12A8C1461C4', b'The New Way', 7565788)\n",
            " (b'', 125282, 0.6790353 , 0.39898147, b'ARNFVG61187FB3EB6C',      nan, b'California',        nan, b'804adff4-9f7b-49d9-9585-6c73fb33e5aa', b'JOHN DOE',  12618, b'', 0, 0, b'In My Own Cage', 655002, 0.        , b'SOUVPJZ12AB018218C', b'Suffer', 7257771)\n",
            " (b'', 164995, 0.50415394, 0.4393989 , b'ARQGYAE11F4C846DF6',      nan, b'',        nan, b'cef8066e-75dd-41b4-8e29-59c1a7e007dc', b'Alpha 5.20',     -1, b'', 0, 0, b'Rakailles 4', 321358,        nan, b'SONUZSW12AAA15EA65', b'Cit\\xc3\\xa9s dortoires (feat. 59 Grammes)', 3619613)\n",
            " (b'',   8271, 0.60975438, 0.40847059, b'ARE592P1187B99F3A7',      nan, b'',        nan, b'3e9c5302-782c-4bd9-99f0-76ed93c38f3a', b'Tonex',   8002, b'', 0, 0, b'Unspoken', 397813, 0.33470655, b'SOGBBEE12AB017ED6A', b'Bring It', 4422553)\n",
            " (b'', 227254, 0.62928213, 0.43982312, b'ARZG7JE11C8A422B60',      nan, b'',        nan, b'abe48bc0-d3fa-49ed-84ee-ed30df8bf16a', b'Chasen',  69630, b'', 0, 0, b'Shine Through The Stars', 292757,        nan, b'SOPBCNI12AF729FE49', b'You And I', 3283071)\n",
            " (b'', 396809, 0.42348755, 0.33631619, b'AR6WOPD1187B98D9BB', 34.05349, b'California - LA', -118.24532, b'af762387-4e82-4bf4-840c-4987cfa674c9', b'Finis Tasby',     -1, b'', 0, 0, b'What My Blues Are All About', 536619,        nan, b'SOYKRSW12AB018078B', b'Sitting In My Window (Finis Tasby BMI)', 5935766)\n",
            " (b'', 478504, 0.49637509, 0.40022068, b'AREPABD12420780ABB',      nan, b'',        nan, b'139ff1fb-ec28-4142-916d-5f2813992cdd', b'Ogris Debris',     -1, b'', 0, 0, b'Black Label #57', 642136, 0.3041695 , b'SORASFZ12AB01828C7', b'Raid The Itch', 7120778)\n",
            " (b'',   4075, 0.69174446, 0.471399  , b'ARUQFUJ1187FB42AEC', 41.88415, b'Chicago, IL',  -87.63241, b'970fb29f-e288-403e-a388-d2a7889bfa47', b'Warren Zevon',  10751, b'', 0, 0, b'The Wind', 689584, 0.50403434, b'SOVOIOQ12AC4688FAC', b'The Rest of the Night', 7652341)\n",
            " (b'', 348957, 0.17931175, 0.        , b'ARJ8JOU1187B9A572F', 49.38426, b'CANADA - Ontario',  -84.75627, b'cd43b5c2-1205-4aa8-910e-99ba9b2ac2a0', b'Andrea Klas',     -1, b'', 0, 0, b'Orion', 471585, 0.        , b'SOXAGQZ12AB018A089', b'Ride', 5241883)\n",
            " (b'',  32403, 0.54933652, 0.40069054, b'ARR9LD61187B990883', 55.8578 , b'Glasgow, Scotland',   -4.24251, b'5c42c9cf-5833-41d8-b600-177e70894046', b'The Soup Dragons',     -1, b'', 0, 0, b'This Is Our Art', 569813,        nan, b'SOLFMLX12AB0186EB5', b'Passion Protein', 6313869)\n",
            " (b'', 579026, 0.65198143, 0.44164696, b'ARFKWCR1269FCD4C75',      nan, b'',        nan, b'd5d47951-4292-42e7-b8f0-14d9d9cc7f0f', b'Write This Down', 218485, b'', 0, 0, b'Write This Down', 805061, 0.58731204, b'SOSNKHA12AB0185BD6', b'Redemption', 8899051)\n",
            " (b'', 173090, 0.42060491, 0.30093596, b'ARIBQTP1187B98C602',      nan, b'',        nan, b'b5408434-c2ad-4edd-9b9f-dd68aeabee07', b'Radio Macand\\xc3\\xa9', 123255, b'', 0, 0, b'Radio Macand\\xc3\\xa9', 271545, 0.        , b'SOLOUIH12AB018146C', b'Dame Tus  Besos', 5963809)\n",
            " (b'', 168703, 0.51584765, 0.35312499, b'ARCP8YG1187B997D72', 52.88356, b'UK - England - South East',   -1.97406, b'e3f40d48-8f70-4654-9bdf-4a4ce1c95642', b'Claire Hamill',     -1, b'', 0, 0, b'Touchpaper', 557522,        nan, b'SOKWWCO12AB0187D70', b\"Don't Prolong the Agony (Bonus Track)\", 6165619)\n",
            " (b'',   9140, 0.42373818, 0.        , b'ARMORI81187FB5B1AD',      nan, b'',        nan, b'50eaf061-e265-434a-937f-09289270d08a', b'Kruiz',     -1, b'', 0, 0, b'Kruiz-1', 811431,        nan, b'SODXEOD12AB018EC03', b'Dalny svet (bonus 2003)', 8969250)\n",
            " (b'',   3648, 0.41528718, 0.31907462, b'ARV5O111187B9A3F3A', 47.61002, b'Bellevue Washington USA', -122.18755, b'da1faeaa-82c8-4072-b40f-0f7f2e1efe76', b'Carl Davis',  16333, b'', 0, 0, b'DAVIS_ C.: Alice in Wonderland [Ballet] (Prague City Philharmonic_ Davis)', 737170,        nan, b'SONHPZT12AC90970C3', b'Alice in Wonderland: Act I: The Caucus Race', 8167012)\n",
            " (b'',  17037, 0.6058153 , 0.47057712, b'AR5SHMY1187FB3D71A',      nan, b'',        nan, b'3e356f2a-3501-4e68-8eff-f77d582c066a', b'Brigitte Fontaine',  65610, b'', 0, 0, b'D\\xc3\\xa9vaste-Moi', 624358, 0.24686509, b'SOHQYYJ12AB0183B6D', b'Le mauvais coton', 6931310)\n",
            " (b'', 141602, 0.50442486, 0.30431073, b'AR3EVEE1187B9994B7', 18.11526, b'Jamaica',  -77.27348, b'f564b042-1bec-4990-b730-151a0a8fd59a', b'Abijah',     -1, b'', 0, 0, b'Fatis Presents Abijah', 664392,        nan, b'SOIOKZN12AB01857C2', b'Love Can Change feat. Nadine Sutherland', 7367180)\n",
            " (b'',  22934, 0.49752983, 0.39180148, b'ARXWUOT120AB95E347', 61.49781, b'Tampere',   23.76226, b'e15f60f3-32c7-46eb-a7a7-43026b7b5fcb', b'Hex',     -1, b'', 0, 0, b'Tone Tales From Tomorrow', 430813,        nan, b'SOMPUGR12A8C146F57', b'Subtek', 4807533)\n",
            " (b'',  31711, 0.58612624, 0.41682398, b'AR9TMXT1187B99AEDC', 51.16418, b'GERMANY',   10.45415, b'b13f113c-22f1-4b16-9719-69200dc58e00', b'X-Perience',     -1, b'', 0, 0, b'Lost In Paradise', 271240,        nan, b'SODMDUM12A6D4FCEE4', b'Dream Of Love', 3017571)\n",
            " (b'', 182216, 0.70011995, 0.53438374, b'AR73P6T1187B994881', 62.19845, b'SWEDEN',   17.55142, b'af723a8a-d3db-46c2-82a3-201dde8fa27f', b'Diablo Swing Orchestra',     -1, b'', 0, 0, b'Sing-Along Songs for the Damned and Delirious', 602123, 0.73016138, b'SONVYNC12AB0184ECC', b'Lucy Fears the Morning Star', 6685307)\n",
            " (b'',   2981, 0.70528768, 0.51729802, b'AR039B11187B9B30D0',      nan, b'NEW YORK, New York',        nan, b'fb9719bf-c477-4223-b319-986eb4168a91', b'John Williams',   5226, b'', 0, 0, b'English Guitar Music', 289345,        nan, b'SOPHQEL12A8C1357CC', b'Fool on the Hill', 3247895)\n",
            " (b'', 185422, 0.66426599, 0.42714861, b'ARHC7VF1187FB59B98', 43.64856, b'Toronto, Ontario, Canada',  -79.38533, b'19202b40-eb93-48a0-b6fc-fce9568182aa', b'Fucked Up', 203496, b'', 0, 0, b'Hidden World', 682269, 0.66056004, b'SOLQULR12AB018D726', b'Baiting the Public', 7571439)\n",
            " (b'',  56387, 0.46480773, 0.36706671, b'AR0XJ291187FB45855', 39.75911, b'Dayton, Ohio',  -84.19444, b'c118502c-e6ce-40a7-b4e1-1a1a5bb3fb19', b'Drexel',  55654, b'', 0, 0, b'TheBloodyTransylvaniaStreetMachine',  71767,        nan, b'SOKXBTF12A6BD4F3AD', b'Death Acceptor',  753098)\n",
            " (b'',  18580, 0.59099422, 0.47502604, b'AR3UY051187B9A922A', 34.13602, b'Glendora, CA', -117.86483, b'ea9889a3-539d-4549-bff3-cb721b989aa2', b'The Surfaris',     -1, b'', 0, 0, b'100 Years of Surfing', 219226,        nan, b'SOPFHPD12A8C1407F6', b'Wipeout', 2391680)\n",
            " (b'',   3737, 0.60338277, 0.44942363, b'AR2P71H1187B9B8C00',      nan, b'DE',        nan, b'2e0d05e0-d147-46e6-be51-8ffed2a9e0da', b'Kool Savas',   2308, b'', 0, 0, b'Die besten Tage sind gez\\xc3\\xa4hlt', 407754,        nan, b'SOORUNH12AB0182395', b'Fick uns', 4536351)\n",
            " (b'', 467711, 0.48025418, 0.41362475, b'ARLQPCR12086C1188A',      nan, b'',        nan, b'be9c8fc0-0dfd-45eb-a4dd-fec3ba8a8499', b'Prinz Porno',     -1, b'', 0, 0, b'Blackbooked No. 2 - Jung_ sch\\xc3\\xb6n und stylish', 715013, 0.21204541, b'SOAOSWS12AB0189131', b'Wir Sind Die Jungs feat. Din & Smexer', 7930599)\n",
            " (b'', 333413, 0.53173568, 0.30422065, b'ARDBUTG1187FB5531E',      nan, b'',        nan, b'dc18ce1a-a4b6-4844-a5cb-ece11b7e9ee7', b'Lord T & Eloise',     -1, b'', 0, 0, b'Aristocrunk', 450928,        nan, b'SOYTTYG12AB017F85E', b'Make Dat Monet', 5008004)\n",
            " (b'',  16715, 0.61354742, 0.41069158, b'AR8AJC81187B9AE2F5', 40.99471, b'Pennsylvania',  -77.60454, b'a9859125-d2c2-498e-a20b-b98dff2957a4', b'Kingdom Come',     -1, b'', 0, 0, b\"Ain't Crying for the Moon\", 787050, 0.3759843 , b'SOUIUYF12AC3DF998F', b'Two Legged Sheep', 8709880)\n",
            " (b'',   8171, 0.64115086, 0.48616786, b'AR4T2NV1187B997CF3',      nan, b'',        nan, b'd61ab6ed-81e4-48fa-9c7b-f952f08ac929', b'Gemelli Diversi',    665, b'', 0, 0, b'4 x 4', 303644, 0.48169415, b'SOJGKAD12A58A7D1FF', b'Chi Sei Adesso', 3435240)\n",
            " (b'', 356687, 0.645128  , 0.46111641, b'ARYNKUB1187B995EDE',      nan, b'',        nan, b'6a5f768c-db43-461a-8e58-658084ebe84d', b'Alice In Videoland',     -1, b'', 0, 0, b'Outrageous', 609684, 0.56858892, b'SOCKLYJ12A8C14017E', b'Stuck On My Vision', 6775669)\n",
            " (b'', 144698, 0.27620232, 0.39410527, b'AR2UHZT1187FB5033D',      nan, b'',        nan, b'44be840b-bc58-4f43-8321-2675b4d72b2a', b'Kristian Meurman',  32879, b'', 0, 0, b'Galaksi', 488274,        nan, b'SOMOSWT12AB017CD5A', b'Joku muu', 5421069)\n",
            " (b'',  25681, 0.68580431, 0.44792154, b'ARWC7G01187B9A9CC5', 34.05349, b'California - LA', -118.24532, b'f6cfa4fb-5f91-4a90-a1c5-bb083cead82c', b'Felt',     -1, b'', 0, 0, b'Felt 3: A Tribute To Rosie Perez [Instrumentals & Acapellas]', 769401, 0.25383474, b'SOUKOKB12AB018A808', b'Whaleface (Instrumental)', 8521087)\n",
            " (b'', 482712, 0.42266164, 0.25383455, b'ARLQFGK1187B98DC2B',      nan, b'',        nan, b'b793d363-8d0b-4f11-a798-fa545ed98eb1', b'Gangster Fun',     -1, b'', 0, 0, b\"Time Flies When You're Gangster Fun\", 715502,        nan, b'SOJLGRD12AB018724F', b'Brown Paper Bag', 7936644)\n",
            " (b'',   3234, 0.58674611, 0.43319907, b'ARVP8NN1187FB3C1D3',      nan, b'Nairobi, Kenya',        nan, b'80d07b5b-35b1-4d58-a72e-49ac98cba13f', b'Roger Whittaker',  15306, b'', 0, 0, b'Wind Beneath My Wings', 293550, 0.        , b'SOZTLAR12A8C1368A9', b'You Needed Me', 3296492)\n",
            " (b'', 165299, 0.53327797, 0.36835328, b'AR4CFD51187B9B0FA9',      nan, b'',        nan, b'b9f60d4b-f335-48af-9d06-b6344adaffc5', b'A.Human',     -1, b'', 0, 0, b'Third Hand Prophecy', 233897,        nan, b'SOIOAQZ12A8AE472A2', b'Pacey Singer', 2566237)]\n"
          ],
          "name": "stdout"
        }
      ]
    },
    {
      "cell_type": "markdown",
      "metadata": {
        "id": "u42eI_FqZlzj"
      },
      "source": [
        "Data is stored in h5 file. \n",
        "____\n",
        "An H5 file is a data file saved in the Hierarchical Data Format (HDF). It contains multidimensional arrays of scientific data. H5 files are commonly used in aerospace, physics, engineering, finance, academic research, genomics, astronomy, electronics instruments, and medical fields.\n",
        "____\n",
        "Instead of commonly used datasets, here information is stored in groups. This code is imitated from video."
      ]
    },
    {
      "cell_type": "code",
      "metadata": {
        "id": "QDfYodKxB96l",
        "outputId": "beedde45-cd63-4e69-de61-98f9077c5ead",
        "colab": {
          "base_uri": "https://localhost:8080/",
          "height": 124
        }
      },
      "source": [
        "print(data[:5])"
      ],
      "execution_count": 4,
      "outputs": [
        {
          "output_type": "stream",
          "text": [
            "[(b'',   4069, 0.6498221 , 0.39403189, b'ARYZTJS1187B98C555',     nan, b'',      nan, b'357ff05d-848a-44cf-b608-cb34b5701ae5', b'Faster Pussy cat', 44895, b'', 0, 0, b'Monster Ballads X-Mas', 633681, 0.54289874, b'SOQMMHC12AB0180CB8', b'Silent Night', 7032331)\n",
            " (b'', 113480, 0.43960397, 0.35699211, b'ARMVN3U1187FB3A1EB',     nan, b'',      nan, b'8d7ef530-a6fd-4f8f-b2e2-74aec765e0f9', b'Karkkiautomaatti',    -1, b'', 0, 0, b'Karkuteill\\xc3\\xa4', 145266, 0.29987749, b'SOVFVAK12A8C1350D9', b'Tanssi vaan', 1514808)\n",
            " (b'',  63531, 0.64368057, 0.43750384, b'ARGEKB01187FB50750', 55.8578, b'Glasgow, Scotland', -4.24251, b'3d403d44-36ce-465c-ad43-ae877e65adc4', b'Hudson Mohawke',    -1, b'', 0, 0, b'Butter', 625706, 0.61787097, b'SOGTUKN12AB017F4F1', b'No One Could Ever', 6945353)\n",
            " (b'',  65051, 0.44850116, 0.37234907, b'ARNWYLR1187B9B2F9C',     nan, b'',      nan, b'12be7648-7094-495f-90e6-df4189d68615', b'Yerba Brava', 34000, b'', 0, 0, b'De Culo', 199368,        nan, b'SOBNYVR12A8C13558C', b'Si Vos Quer\\xc3\\xa9s', 2168257)\n",
            " (b'', 158279, 0.        , 0.        , b'AREQDTE1269FB37231',     nan, b'',      nan, b'', b'Der Mystic',    -1, b'', 0, 0, b'Rene Ablaze Presents Winter Sessions', 209038,        nan, b'SOHSBXH12A8C13B0DF', b'Tangle Of Aspens', 2264873)]\n"
          ],
          "name": "stdout"
        }
      ]
    }
  ]
}