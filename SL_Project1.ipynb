{
  "nbformat": 4,
  "nbformat_minor": 0,
  "metadata": {
    "kernelspec": {
      "display_name": "Python 3",
      "language": "python",
      "name": "python3"
    },
    "language_info": {
      "codemirror_mode": {
        "name": "ipython",
        "version": 3
      },
      "file_extension": ".py",
      "mimetype": "text/x-python",
      "name": "python",
      "nbconvert_exporter": "python",
      "pygments_lexer": "ipython3",
      "version": "3.7.3"
    },
    "colab": {
      "name": "SL_Project1",
      "provenance": [],
      "include_colab_link": true
    }
  },
  "cells": [
    {
      "cell_type": "markdown",
      "metadata": {
        "id": "view-in-github",
        "colab_type": "text"
      },
      "source": [
        "<a href=\"https://colab.research.google.com/github/KabdualiBek/SL_project1/blob/main/SL_Project1.ipynb\" target=\"_parent\"><img src=\"https://colab.research.google.com/assets/colab-badge.svg\" alt=\"Open In Colab\"/></a>"
      ]
    },
    {
      "cell_type": "markdown",
      "metadata": {
        "id": "THmVl7yDHNmR"
      },
      "source": [
        "Mounting of google drive of the university account"
      ]
    },
    {
      "cell_type": "code",
      "metadata": {
        "id": "P8HB6RSTVwUV",
        "cellView": "code",
        "outputId": "973d538a-969f-4ed2-e0f0-681ee65df375",
        "colab": {
          "base_uri": "https://localhost:8080/",
          "height": 35
        }
      },
      "source": [
        "from google.colab import drive\n",
        "drive.mount('/content/drive')"
      ],
      "execution_count": null,
      "outputs": [
        {
          "output_type": "stream",
          "text": [
            "Mounted at /content/drive\n"
          ],
          "name": "stdout"
        }
      ]
    },
    {
      "cell_type": "markdown",
      "metadata": {
        "id": "YgJN0giuHhW5"
      },
      "source": [
        "Data retieval: 1M datapoints - songs. "
      ]
    },
    {
      "cell_type": "markdown",
      "metadata": {
        "id": "u42eI_FqZlzj"
      },
      "source": [
        "Data is stored in h5 file. \n",
        "____\n",
        "An H5 file is a data file saved in the Hierarchical Data Format (HDF). It contains multidimensional arrays of scientific data. H5 files are commonly used in aerospace, physics, engineering, finance, academic research, genomics, astronomy, electronics instruments, and medical fields.\n",
        "____\n",
        "Instead of commonly used datasets, here information is stored in groups. This code is imitated from video."
      ]
    },
    {
      "cell_type": "code",
      "metadata": {
        "id": "PO2iRkKYVohb",
        "outputId": "9abe6c4d-6769-4482-fe27-6ae1b0259563",
        "colab": {
          "base_uri": "https://localhost:8080/",
          "height": 72
        }
      },
      "source": [
        "import numpy as np\n",
        "import h5py\n",
        "import random\n",
        "\n",
        "with h5py.File('/content/drive/My Drive/SL_project1/msd_summary_file.h5', 'r') as f:\n",
        "    base_items = list(f.items())\n",
        "    print('Items in the directory:', base_items)\n",
        "    metadata = f.get('metadata')\n",
        "    metadata_items = list(metadata.items())\n",
        "    print('Items in metadata:', metadata_items)\n",
        "    data = np.array(metadata.get('songs'))"
      ],
      "execution_count": 1,
      "outputs": [
        {
          "output_type": "stream",
          "text": [
            "Items in the directory: [('analysis', <HDF5 group \"/analysis\" (1 members)>), ('metadata', <HDF5 group \"/metadata\" (1 members)>), ('musicbrainz', <HDF5 group \"/musicbrainz\" (1 members)>)]\n",
            "Items in metadata: [('songs', <HDF5 dataset \"songs\": shape (1000000,), type \"|V5320\">)]\n"
          ],
          "name": "stdout"
        }
      ]
    },
    {
      "cell_type": "markdown",
      "metadata": {
        "id": "4KrQvfRSH8Mk"
      },
      "source": [
        "Task 1: Divide your data into 3 parts: the training set, the validation, and the test\n",
        "set. Decide which ratio train : validation : test to use and explain your\n",
        "motives.\n",
        "Solution: 0.7:0.15:0.15"
      ]
    },
    {
      "cell_type": "code",
      "metadata": {
        "id": "QDfYodKxB96l"
      },
      "source": [
        "temp = np.random.permutation(data)\n",
        "train = temp[:700000]\n",
        "validation = temp[700000:850000]\n",
        "test = temp[850000:]"
      ],
      "execution_count": 2,
      "outputs": []
    },
    {
      "cell_type": "markdown",
      "metadata": {
        "id": "xDaAWq6qHs0j"
      },
      "source": [
        "Next step: convert non-number data to numbers\n",
        "\n",
        "Google: data science convert to number\n",
        "\n",
        "Link: https://towardsdatascience.com/all-about-categorical-variable-encoding-305f3361fd02"
      ]
    },
    {
      "cell_type": "code",
      "metadata": {
        "id": "FgXSr-VCLRxH",
        "outputId": "07c89b0b-2705-4e50-ed7a-b20a4eef4b1f",
        "colab": {
          "base_uri": "https://localhost:8080/",
          "height": 384
        }
      },
      "source": [
        "print(data[:20])"
      ],
      "execution_count": 9,
      "outputs": [
        {
          "output_type": "stream",
          "text": [
            "[(b'',   4069, 0.6498221 , 0.39403189, b'ARYZTJS1187B98C555',      nan, b'',        nan, b'357ff05d-848a-44cf-b608-cb34b5701ae5', b'Faster Pussy cat', 44895, b'', 0, 0, b'Monster Ballads X-Mas', 633681, 0.54289874, b'SOQMMHC12AB0180CB8', b'Silent Night', 7032331)\n",
            " (b'', 113480, 0.43960397, 0.35699211, b'ARMVN3U1187FB3A1EB',      nan, b'',        nan, b'8d7ef530-a6fd-4f8f-b2e2-74aec765e0f9', b'Karkkiautomaatti',    -1, b'', 0, 0, b'Karkuteill\\xc3\\xa4', 145266, 0.29987749, b'SOVFVAK12A8C1350D9', b'Tanssi vaan', 1514808)\n",
            " (b'',  63531, 0.64368057, 0.43750384, b'ARGEKB01187FB50750', 55.8578 , b'Glasgow, Scotland',   -4.24251, b'3d403d44-36ce-465c-ad43-ae877e65adc4', b'Hudson Mohawke',    -1, b'', 0, 0, b'Butter', 625706, 0.61787097, b'SOGTUKN12AB017F4F1', b'No One Could Ever', 6945353)\n",
            " (b'',  65051, 0.44850116, 0.37234907, b'ARNWYLR1187B9B2F9C',      nan, b'',        nan, b'12be7648-7094-495f-90e6-df4189d68615', b'Yerba Brava', 34000, b'', 0, 0, b'De Culo', 199368,        nan, b'SOBNYVR12A8C13558C', b'Si Vos Quer\\xc3\\xa9s', 2168257)\n",
            " (b'', 158279, 0.        , 0.        , b'AREQDTE1269FB37231',      nan, b'',        nan, b'', b'Der Mystic',    -1, b'', 0, 0, b'Rene Ablaze Presents Winter Sessions', 209038,        nan, b'SOHSBXH12A8C13B0DF', b'Tangle Of Aspens', 2264873)\n",
            " (b'', 219281, 0.36128698, 0.10962585, b'AR2NS5Y1187FB5879D',      nan, b'',        nan, b'd087b377-bab7-46c4-bd12-15debebb5d61', b'David Montgomery',    -1, b'', 0, 0, b'Berwald: Symphonies Nos. 1/2/3/4', 299244,        nan, b'SOZVAPQ12A8C13B63C', b'Symphony No. 1 G minor \"Sinfonie Serieuse\"/Allegro con energia', 3360982)\n",
            " (b'',   3736, 0.69292273, 0.45373159, b'ARO41T51187FB397AB',      nan, b'Mexico City, Mexico',        nan, b'd2461c0a-5575-4425-a225-fce0180de3fd', b'Sasha / Turbulence',  1396, b'', 0, 0, b'Strictly The Best Vol. 34',  52968,        nan, b'SOQVRHI12A6D4FB2D7', b'We Have Got Love',  552626)\n",
            " (b'',  49941, 0.58815619, 0.40109243, b'AR3Z9WY1187FB4CDC2',      nan, b'',        nan, b'bf61e8ff-7621-4655-8ebd-68210645c5e9', b'Kris Kross',  9594, b'', 0, 0, b'Da Bomb', 580432,        nan, b'SOEYRFT12AB018936C', b\"2 Da Beat Ch'yall\", 6435649)\n",
            " (b'',  15202, 0.40846546, 0.2859012 , b'ARA04401187B991E6E', 54.99241, b'Londonderry, Northern Ireland',   -7.31923, b'1a9bf859-1dc2-495b-9e7c-289be7731a9f', b'Joseph Locke', 61524, b'', 0, 0, b'Danny Boy', 756677,        nan, b'SOPMIYT12A6D4F851E', b'Goodbye', 8376489)\n",
            " (b'',  76721, 0.41994127, 0.24913723, b'ARCVMYS12454A51E6E',      nan, b'',        nan, b'', b\"The Sun Harbor's Chorus-Documentary Recordings\", 50151, b'', 0, 0, b'March to cadence with the US marines',  95069,        nan, b'SOJCFMH12A8C13B0C2', b\"Mama_ mama can't you see ?\", 1043208)\n",
            " (b'', 483188, 0.55501397, 0.35294891, b'AR59BSJ1187FB4474F',      nan, b'',        nan, b'891fccfc-24c1-4bfd-bf49-c736e59e443f', b\"3 Gars Su'l Sofa\",    -1, b'', 0, 0, b'Des cobras des tarentules', 649271,        nan, b'SOYGNWH12AB018191E', b\"L'antarctique\", 7192392)\n",
            " (b'', 182764, 0.54138976, 0.36909625, b'ARCVIFR1187B99129F', 21.01841, b'Guanajuato, Guanajuato, Mexico', -101.25912, b'ec57c22f-9bb7-48ab-aa85-dab108a71b53', b'Jorge Negrete', 16768, b'', 0, 0, b'32 Grandes \\xc3\\x89xitos  CD 2', 714860,        nan, b'SOLJTLX12AB01890ED', b'El hijo del pueblo', 7928975)\n",
            " (b'', 165382, 0.62200539, 0.45157896, b'ARVIT0V1187B9A7CDE',      nan, b'',        nan, b'2eb02f8c-8dfa-49dc-a224-11051ec45a42', b'Danny Diablo',    -1, b'', 0, 0, b'International Hardcore Superstar', 620618, 0.39200877, b'SOQQESG12A58A7AA28', b'Cold Beer feat. Prince Metropolitan', 6893903)\n",
            " (b'',   5823, 0.62182649, 0.40698473, b'AREMPER1187B9AEB42',      nan, b'',        nan, b'14efbb08-c3d8-404c-9ead-ad71fa586ee6', b'Tiger Lou',    -1, b'', 0, 0, b'The Loyal', 204414, 0.46348966, b'SOMPVQB12A8C1379BB', b'Pilots', 2218694)\n",
            " (b'', 107401, 0.54368992, 0.37367919, b'ARBAMQB1187FB3C650',      nan, b'',        nan, b'0bb5e108-b41d-46cd-969e-69d34d1acdfe', b'Waldemar Bastos', 21683, b'', 0, 0, b'Afropea 3 - Telling Stories To The Sea', 218915, 0.4499402 , b'SOGPCJI12A8C13CCA0', b'N Gana', 2387740)\n",
            " (b'',  63158, 0.52981913, 0.41022851, b'ARSB5591187B99A848', 57.42635, b'Vetlanda, Sweden',   15.08518, b'fba3e876-68f1-4a1f-99d9-c604480202ba', b'Lena Philipsson',    -1, b'', 0, 0, b'Lena 20 \\xc3\\x85r', 543019, 0.21204541, b'SOSDCFG12AB0184647', b'006', 6010886)\n",
            " (b'',   2752, 0.68550283, 0.44673297, b'ARDW5AW1187FB55708', 42.78668, b'Vermillion, SD',  -96.92803, b'42222090-c5e5-4243-8582-c29bc8b63ec6', b'Shawn Colvin',  1431, b'', 0, 0, b'Cover Girl', 282071, 0.270776  , b'SOBARPM12A8C133DFF', b'(Looking For) The Heart Of Saturday', 3156269)\n",
            " (b'',   8066, 0.73447141, 0.51197583, b'ARGWPP11187B9AEF43', 38.8235 , b'Maryland',  -75.92381, b'f76167bb-c117-4022-8b6b-54c796edf5c9', b'Dying Fetus', 51871, b'', 0, 0, b'Descend Into Depravity', 610151, 0.61476581, b'SOKOVRQ12A8C142811', b'Ethos of Coercion', 6782293)\n",
            " (b'',  21191, 0.73899591, 0.5633669 , b'ARDT9VH1187B999C0B',      nan, b'South Carolina',        nan, b'6b22de04-fb48-44aa-bd02-c1427f635477', b'Emery', 10889, b'', 0, 0, b\"I'm Only A Man (Bonus Track Version)\", 143873, 0.71731903, b'SOIMMJJ12AF72AD643', b'Rock-N-Rule', 1501464)\n",
            " (b'',  68575, 0.46714484, 0.40912708, b'ARWFDED1187B9B9D71',      nan, b'',        nan, b'8ff7e1b4-18f8-48ec-a8a0-793ab1a5511c', b'Los Ronaldos',    -1, b'', 0, 0, b'La bola extra', 212920,        nan, b'SOVMBTP12A8C13A8F6', b'La bola extra', 2318206)]\n"
          ],
          "name": "stdout"
        }
      ]
    }
  ]
}